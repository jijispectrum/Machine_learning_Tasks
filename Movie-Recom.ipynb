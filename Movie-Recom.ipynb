{
 "cells": [
  {
   "cell_type": "code",
   "execution_count": 5,
   "id": "f6145d58-f18a-4885-ba44-1b7f2f678de3",
   "metadata": {},
   "outputs": [
    {
     "name": "stdout",
     "output_type": "stream",
     "text": [
      "Title: The Dark Knight\n",
      "Genre: Action, Crime, Drama\n",
      "Release Year: 2008\n",
      "Rating: 9.0\n",
      "Poster URL: https://m.media-amazon.com/images/M/MV5BMTMxNTMwODM0NF5BMl5BanBnXkFtZTcwODAyMTk2Mw@@._V1_SX300.jpg\n",
      "\n",
      "Title: Inception\n",
      "Genre: Action, Adventure, Sci-Fi\n",
      "Release Year: 2010\n",
      "Rating: 8.8\n",
      "Poster URL: https://m.media-amazon.com/images/M/MV5BMjAxMzY3NjcxNF5BMl5BanBnXkFtZTcwNTI5OTM0Mw@@._V1_SX300.jpg\n",
      "\n",
      "Title: Forrest Gump\n",
      "Genre: Drama, Romance\n",
      "Release Year: 1994\n",
      "Rating: 8.8\n",
      "Poster URL: https://m.media-amazon.com/images/M/MV5BNDYwNzVjMTItZmU5YS00YjQ5LTljYjgtMjY2NDVmYWMyNWFmXkEyXkFqcGc@._V1_SX300.jpg\n",
      "\n"
     ]
    }
   ],
   "source": [
    "import requests\n",
    "\n",
    "# Your OMDb API Key\n",
    "OMDB_API_KEY = '9b4f912c'\n",
    "\n",
    "# Function to get movie details from OMDb API\n",
    "def get_movie_data(movie_title):\n",
    "    url = f\"http://www.omdbapi.com/?t={movie_title}&apikey={OMDB_API_KEY}\"\n",
    "    response = requests.get(url).json()\n",
    "    \n",
    "    if response['Response'] == 'True':\n",
    "        return {\n",
    "            'Title': response['Title'],\n",
    "            'Genre': response['Genre'],\n",
    "            'Release Year': response['Year'],\n",
    "            'Rating': response['imdbRating'],\n",
    "            'Poster URL': response['Poster']\n",
    "        }\n",
    "    else:\n",
    "        return None  # Return None if movie not found\n",
    "\n",
    "# Example movie titles\n",
    "movies = ['The Dark Knight', 'Inception', 'Forrest Gump']\n",
    "\n",
    "# Get movie data for each movie\n",
    "movie_data = []\n",
    "for movie in movies:\n",
    "    data = get_movie_data(movie)\n",
    "    if data:\n",
    "        movie_data.append(data)\n",
    "\n",
    "# Display movie data\n",
    "for data in movie_data:\n",
    "    print(f\"Title: {data['Title']}\")\n",
    "    print(f\"Genre: {data['Genre']}\")\n",
    "    print(f\"Release Year: {data['Release Year']}\")\n",
    "    print(f\"Rating: {data['Rating']}\")\n",
    "    print(f\"Poster URL: {data['Poster URL']}\")\n",
    "    print()\n"
   ]
  },
  {
   "cell_type": "code",
   "execution_count": 6,
   "id": "60ba55e1-593c-4d28-9d26-2a0fd1b85914",
   "metadata": {},
   "outputs": [
    {
     "name": "stdout",
     "output_type": "stream",
     "text": [
      "Title: The Dark Knight\n",
      "Poster URL: https://m.media-amazon.com/images/M/MV5BMTMxNTMwODM0NF5BMl5BanBnXkFtZTcwODAyMTk2Mw@@._V1_SX300.jpg\n"
     ]
    },
    {
     "data": {
      "text/html": [
       "<img src=\"https://m.media-amazon.com/images/M/MV5BMTMxNTMwODM0NF5BMl5BanBnXkFtZTcwODAyMTk2Mw@@._V1_SX300.jpg\"/>"
      ],
      "text/plain": [
       "<IPython.core.display.Image object>"
      ]
     },
     "metadata": {},
     "output_type": "display_data"
    },
    {
     "name": "stdout",
     "output_type": "stream",
     "text": [
      "\n",
      "Title: Inception\n",
      "Poster URL: https://m.media-amazon.com/images/M/MV5BMjAxMzY3NjcxNF5BMl5BanBnXkFtZTcwNTI5OTM0Mw@@._V1_SX300.jpg\n"
     ]
    },
    {
     "data": {
      "text/html": [
       "<img src=\"https://m.media-amazon.com/images/M/MV5BMjAxMzY3NjcxNF5BMl5BanBnXkFtZTcwNTI5OTM0Mw@@._V1_SX300.jpg\"/>"
      ],
      "text/plain": [
       "<IPython.core.display.Image object>"
      ]
     },
     "metadata": {},
     "output_type": "display_data"
    },
    {
     "name": "stdout",
     "output_type": "stream",
     "text": [
      "\n",
      "Title: Forrest Gump\n",
      "Poster URL: https://m.media-amazon.com/images/M/MV5BNDYwNzVjMTItZmU5YS00YjQ5LTljYjgtMjY2NDVmYWMyNWFmXkEyXkFqcGc@._V1_SX300.jpg\n"
     ]
    },
    {
     "data": {
      "text/html": [
       "<img src=\"https://m.media-amazon.com/images/M/MV5BNDYwNzVjMTItZmU5YS00YjQ5LTljYjgtMjY2NDVmYWMyNWFmXkEyXkFqcGc@._V1_SX300.jpg\"/>"
      ],
      "text/plain": [
       "<IPython.core.display.Image object>"
      ]
     },
     "metadata": {},
     "output_type": "display_data"
    },
    {
     "name": "stdout",
     "output_type": "stream",
     "text": [
      "\n"
     ]
    }
   ],
   "source": [
    "from IPython.display import Image, display\n",
    "\n",
    "# Display poster images in Jupyter\n",
    "for data in movie_data:\n",
    "    print(f\"Title: {data['Title']}\")\n",
    "    print(f\"Poster URL: {data['Poster URL']}\")\n",
    "    display(Image(url=data['Poster URL']))  # Display the image in the notebook\n",
    "    print()\n"
   ]
  },
  {
   "cell_type": "code",
   "execution_count": 11,
   "id": "c29b2004-5c0f-4280-811d-3b7b4f35e5ec",
   "metadata": {},
   "outputs": [
    {
     "name": "stdout",
     "output_type": "stream",
     "text": [
      "Recommended Movie similar to 'Pulp Fiction' (genre): The Godfather\n"
     ]
    }
   ],
   "source": [
    "import random\n",
    "\n",
    "# Sample list of movies with genres, directors, and actors\n",
    "movies = [\n",
    "    {'title': 'The Dark Knight', 'genre': 'Action', 'director': 'Christopher Nolan', 'actors': ['Christian Bale', 'Heath Ledger']},\n",
    "    {'title': 'Inception', 'genre': 'Sci-Fi', 'director': 'Christopher Nolan', 'actors': ['Leonardo DiCaprio', 'Joseph Gordon-Levitt']},\n",
    "    {'title': 'Forrest Gump', 'genre': 'Drama', 'director': 'Robert Zemeckis', 'actors': ['Tom Hanks', 'Robin Wright']},\n",
    "    {'title': 'The Matrix', 'genre': 'Sci-Fi', 'director': 'Lana Wachowski', 'actors': ['Keanu Reeves', 'Laurence Fishburne']},\n",
    "    {'title': 'Titanic', 'genre': 'Romance', 'director': 'James Cameron', 'actors': ['Leonardo DiCaprio', 'Kate Winslet']},\n",
    "    {'title': 'Gladiator', 'genre': 'Action', 'director': 'Ridley Scott', 'actors': ['Russell Crowe', 'Joaquin Phoenix']},\n",
    "    {'title': 'Pulp Fiction', 'genre': 'Crime', 'director': 'Quentin Tarantino', 'actors': ['John Travolta', 'Uma Thurman']},\n",
    "    {'title': 'The Shawshank Redemption', 'genre': 'Drama', 'director': 'Frank Darabont', 'actors': ['Tim Robbins', 'Morgan Freeman']},\n",
    "    {'title': 'The Godfather', 'genre': 'Crime', 'director': 'Francis Ford Coppola', 'actors': ['Marlon Brando', 'Al Pacino']},\n",
    "    {'title': 'Interstellar', 'genre': 'Sci-Fi', 'director': 'Christopher Nolan', 'actors': ['Matthew McConaughey', 'Anne Hathaway']}\n",
    "]\n",
    "\n",
    "# Function to recommend movies based on similarity (genre or director)\n",
    "def recommend_similar_movies(movie_title, similarity_type='genre'):\n",
    "    # Find the selected movie in the list\n",
    "    selected_movie = next((movie for movie in movies if movie['title'].lower() == movie_title.lower()), None)\n",
    "    \n",
    "    if not selected_movie:\n",
    "        return \"Movie not found.\"\n",
    "    \n",
    "    # Filter similar movies based on genre or director\n",
    "    if similarity_type == 'genre':\n",
    "        similar_movies = [movie['title'] for movie in movies if movie['genre'] == selected_movie['genre'] and movie['title'] != selected_movie['title']]\n",
    "    elif similarity_type == 'director':\n",
    "        similar_movies = [movie['title'] for movie in movies if movie['director'] == selected_movie['director'] and movie['title'] != selected_movie['title']]\n",
    "    \n",
    "    # Randomly recommend a movie from the similar ones\n",
    "    if similar_movies:\n",
    "        return random.choice(similar_movies)\n",
    "    else:\n",
    "        return \"No similar movies found.\"\n",
    "\n",
    "# Example: User selects a movie and similarity type\n",
    "user_movie = 'Pulp Fiction'  # Replace with user input or selection\n",
    "similarity_type = 'genre'  # 'genre' or 'director'\n",
    "\n",
    "recommended_movie = recommend_similar_movies(user_movie, similarity_type)\n",
    "print(f\"Recommended Movie similar to '{user_movie}' ({similarity_type}): {recommended_movie}\")\n"
   ]
  },
  {
   "cell_type": "code",
   "execution_count": 13,
   "id": "4025c87d-299f-4348-b3b5-303b76779360",
   "metadata": {},
   "outputs": [
    {
     "name": "stdout",
     "output_type": "stream",
     "text": [
      "Recommended Movie similar to 'Inception' (director): The Dark Knight\n",
      "\n",
      "Movie Details for 'The Dark Knight':\n",
      "Title: The Dark Knight\n",
      "Genre: Action, Crime, Drama\n",
      "Release Year: 2008\n",
      "Rating: 9.0\n",
      "Director: Christopher Nolan\n",
      "Actors: Christian Bale, Heath Ledger, Aaron Eckhart\n",
      "Poster URL: https://m.media-amazon.com/images/M/MV5BMTMxNTMwODM0NF5BMl5BanBnXkFtZTcwODAyMTk2Mw@@._V1_SX300.jpg\n"
     ]
    },
    {
     "data": {
      "text/html": [
       "<img src=\"https://m.media-amazon.com/images/M/MV5BMTMxNTMwODM0NF5BMl5BanBnXkFtZTcwODAyMTk2Mw@@._V1_SX300.jpg\"/>"
      ],
      "text/plain": [
       "<IPython.core.display.Image object>"
      ]
     },
     "metadata": {},
     "output_type": "display_data"
    }
   ],
   "source": [
    "import requests\n",
    "import random\n",
    "from IPython.display import Image, display\n",
    "\n",
    "# Your OMDb API Key\n",
    "OMDB_API_KEY = '9b4f912c'\n",
    "\n",
    "# Function to get movie details from OMDb API\n",
    "def get_movie_data(movie_title):\n",
    "    url = f\"http://www.omdbapi.com/?t={movie_title}&apikey={OMDB_API_KEY}\"\n",
    "    response = requests.get(url).json()\n",
    "    \n",
    "    if response['Response'] == 'True':\n",
    "        return {\n",
    "            'Title': response['Title'],\n",
    "            'Genre': response['Genre'],\n",
    "            'Release Year': response['Year'],\n",
    "            'Rating': response['imdbRating'],\n",
    "            'Poster URL': response['Poster'],\n",
    "            'Director': response['Director'],\n",
    "            'Actors': response['Actors'].split(', ')\n",
    "        }\n",
    "    else:\n",
    "        return None  # Return None if movie not found\n",
    "\n",
    "# Function to recommend similar movies based on genre or director\n",
    "def recommend_similar_movies(movie_title, similarity_type='genre'):\n",
    "    # Get data for the selected movie\n",
    "    selected_movie = get_movie_data(movie_title)\n",
    "    \n",
    "    if not selected_movie:\n",
    "        return \"Movie not found.\"\n",
    "    \n",
    "    # Sample movies to simulate recommendation (In real-life, these would be fetched dynamically or stored)\n",
    "    sample_movies = [\n",
    "        {'title': 'The Dark Knight', 'genre': 'Action', 'director': 'Christopher Nolan', 'actors': ['Christian Bale', 'Heath Ledger']},\n",
    "        {'title': 'Inception', 'genre': 'Sci-Fi', 'director': 'Christopher Nolan', 'actors': ['Leonardo DiCaprio', 'Joseph Gordon-Levitt']},\n",
    "        {'title': 'Forrest Gump', 'genre': 'Drama', 'director': 'Robert Zemeckis', 'actors': ['Tom Hanks', 'Robin Wright']},\n",
    "        {'title': 'The Matrix', 'genre': 'Sci-Fi', 'director': 'Lana Wachowski', 'actors': ['Keanu Reeves', 'Laurence Fishburne']},\n",
    "        {'title': 'Titanic', 'genre': 'Romance', 'director': 'James Cameron', 'actors': ['Leonardo DiCaprio', 'Kate Winslet']},\n",
    "        {'title': 'Gladiator', 'genre': 'Action', 'director': 'Ridley Scott', 'actors': ['Russell Crowe', 'Joaquin Phoenix']},\n",
    "        {'title': 'Pulp Fiction', 'genre': 'Crime', 'director': 'Quentin Tarantino', 'actors': ['John Travolta', 'Uma Thurman']},\n",
    "        {'title': 'The Shawshank Redemption', 'genre': 'Drama', 'director': 'Frank Darabont', 'actors': ['Tim Robbins', 'Morgan Freeman']},\n",
    "        {'title': 'The Godfather', 'genre': 'Crime', 'director': 'Francis Ford Coppola', 'actors': ['Marlon Brando', 'Al Pacino']},\n",
    "        {'title': 'Interstellar', 'genre': 'Sci-Fi', 'director': 'Christopher Nolan', 'actors': ['Matthew McConaughey', 'Anne Hathaway']}\n",
    "    ]\n",
    "    \n",
    "    # Filter similar movies based on the chosen similarity type (genre or director)\n",
    "    if similarity_type == 'genre':\n",
    "        similar_movies = [movie['title'] for movie in sample_movies if movie['genre'] == selected_movie['Genre'] and movie['title'] != selected_movie['Title']]\n",
    "    elif similarity_type == 'director':\n",
    "        similar_movies = [movie['title'] for movie in sample_movies if movie['director'] == selected_movie['Director'] and movie['title'] != selected_movie['Title']]\n",
    "    \n",
    "    # If there are no similar movies based on the criteria, suggest random movie\n",
    "    if similar_movies:\n",
    "        return random.choice(similar_movies)\n",
    "    else:\n",
    "        return \"No similar movies found.\"\n",
    "\n",
    "# Example usage\n",
    "user_movie = 'Inception'  # Replace with the user input or selection\n",
    "similarity_type = 'director'  # 'genre' or 'director'\n",
    "\n",
    "recommended_movie = recommend_similar_movies(user_movie, similarity_type)\n",
    "print(f\"Recommended Movie similar to '{user_movie}' ({similarity_type}): {recommended_movie}\")\n",
    "\n",
    "# Fetch and display movie details for the recommended movie\n",
    "recommended_movie_data = get_movie_data(recommended_movie)\n",
    "if recommended_movie_data:\n",
    "    print(f\"\\nMovie Details for '{recommended_movie}':\")\n",
    "    print(f\"Title: {recommended_movie_data['Title']}\")\n",
    "    print(f\"Genre: {recommended_movie_data['Genre']}\")\n",
    "    print(f\"Release Year: {recommended_movie_data['Release Year']}\")\n",
    "    print(f\"Rating: {recommended_movie_data['Rating']}\")\n",
    "    print(f\"Director: {recommended_movie_data['Director']}\")\n",
    "    print(f\"Actors: {', '.join(recommended_movie_data['Actors'])}\")\n",
    "    print(f\"Poster URL: {recommended_movie_data['Poster URL']}\")\n",
    "\n",
    "    # Display the movie poster\n",
    "    display(Image(url=recommended_movie_data['Poster URL']))\n"
   ]
  },
  {
   "cell_type": "code",
   "execution_count": null,
   "id": "b05c877c-a9d1-4d15-bc98-7752a0a2aec8",
   "metadata": {},
   "outputs": [],
   "source": []
  }
 ],
 "metadata": {
  "kernelspec": {
   "display_name": "Python 3 (ipykernel)",
   "language": "python",
   "name": "python3"
  },
  "language_info": {
   "codemirror_mode": {
    "name": "ipython",
    "version": 3
   },
   "file_extension": ".py",
   "mimetype": "text/x-python",
   "name": "python",
   "nbconvert_exporter": "python",
   "pygments_lexer": "ipython3",
   "version": "3.12.3"
  }
 },
 "nbformat": 4,
 "nbformat_minor": 5
}
